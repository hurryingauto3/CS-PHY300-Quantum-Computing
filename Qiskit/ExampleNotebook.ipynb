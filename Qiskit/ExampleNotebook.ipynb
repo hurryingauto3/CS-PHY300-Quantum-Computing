{
 "cells": [
  {
   "cell_type": "code",
   "execution_count": 1,
   "metadata": {},
   "outputs": [],
   "source": [
    "# these three import lines are essential for running a quantum circuit \n",
    "from qiskit import QuantumRegister, ClassicalRegister, QuantumCircuit\n",
    "from qiskit import Aer, execute\n",
    "from qiskit.providers.aer import QasmSimulator\n",
    "# also import a visualization tool from qiskit\n",
    "from qiskit.tools.visualization import plot_histogram\n",
    "# import numpy incase we need it\n",
    "import numpy as np\n"
   ]
  },
  {
   "cell_type": "code",
   "execution_count": 5,
   "metadata": {},
   "outputs": [
    {
     "name": "stdout",
     "output_type": "stream",
     "text": [
      "              ░ ┌─┐   \n",
      "q_0: |0>──────░─┤M├───\n",
      "        ┌───┐ ░ └╥┘┌─┐\n",
      "q_1: |0>┤ X ├─░──╫─┤M├\n",
      "        └───┘ ░  ║ └╥┘\n",
      " c_0: 0 ═════════╩══╬═\n",
      "                    ║ \n",
      " c_1: 0 ════════════╩═\n",
      "                      \n",
      "{'10': 1000}\n"
     ]
    }
   ],
   "source": [
    "N = 2\n",
    "\n",
    "# create a quantum register of N qubits, called 'q'. Note that the qubits in the drawing \n",
    "# are labelled a q_i\n",
    "qreg = QuantumRegister(N,'q')\n",
    "# create a classical register of N bits, called 'c'. Note that the bits in the drawing \n",
    "# are labelled a c_i\n",
    "creg = ClassicalRegister(N,'c')\n",
    "\n",
    "# create a quantum circuit with one quantum register and one classical register. \n",
    "circ = QuantumCircuit(qreg,creg)\n",
    "\n",
    "# only one gate in our circuit\n",
    "# you are add more from the list at \n",
    "# https://qiskit.org/documentation/stubs/qiskit.circuit.QuantumCircuit.html\n",
    "circ.x(1)\n",
    "\n",
    "# barriers don't do anything (for now), but they will help you separate\n",
    "# different parts of the circuit visually.\n",
    "circ.barrier()\n",
    "\n",
    "# finally measure the quantum register qreg and put the results in \n",
    "# the classical register creg\n",
    "circ.measure(qreg,creg)\n",
    "\n",
    "# one thing you will notice is that the classical bitstrings are written reversed: \"c_1 c_0\"\n",
    "# rather than \"c_0 c_1\" I find it very annoying.\n",
    "# If you use the following measure command instead, it will write the bitstrings correctly.\n",
    "# circ.measure(range(N),list(reversed(range(N))))\n",
    "\n",
    "# draw the circuit. Not necessary, and you won't want to do this for very \n",
    "# large circuits later on.\n",
    "print(circ.draw())\n",
    "\n",
    "# Now we are ready to simulate the quantum circuit\n",
    "# declare that you want to simulate on the simulator 'qasm_simulator'. There are others.\n",
    "simulator = Aer.get_backend('qasm_simulator')\n",
    "\n",
    "# simulate the circuit a number of times\n",
    "job = execute(circ,simulator,shots=1000)\n",
    "\n",
    "# get the results out\n",
    "result = job.result()\n",
    "\n",
    "# usually, we only care about the counts\n",
    "counts = result.get_counts()\n",
    "print(counts)\n",
    "\n",
    "# plot them as a histogram. Not very useful now, but can be later on.\n",
    "# plot_histogram(counts)"
   ]
  },
  {
   "cell_type": "code",
   "execution_count": 8,
   "metadata": {},
   "outputs": [],
   "source": [
    "# you can always the simulation of a circuit inside a python function\n",
    "def CX(input):\n",
    "\n",
    "    N = 2\n",
    "    qreg = QuantumRegister(N,'q')\n",
    "    creg = ClassicalRegister(N,'c')\n",
    "    circ = QuantumCircuit(qreg,creg)\n",
    "    \n",
    "    # Encode the input into the state of the qubits\n",
    "    print(input[1])\n",
    "    if input[0] == 1:\n",
    "        circ.x(0)\n",
    "    if input[1] == 1:\n",
    "        circ.x(1)\n",
    "    \n",
    "    # put the inputs into the CX gate\n",
    "    circ.cx(0,1)\n",
    "\n",
    "    circ.measure(range(N),list(reversed(range(N))))\n",
    "\n",
    "\n",
    "    simulator = Aer.get_backend('qasm_simulator')\n",
    "    job = execute(circ,simulator,shots=1000)\n",
    "    result = job.result()\n",
    "    counts = result.get_counts()\n",
    "\n",
    "    return counts"
   ]
  },
  {
   "cell_type": "code",
   "execution_count": 9,
   "metadata": {},
   "outputs": [
    {
     "name": "stdout",
     "output_type": "stream",
     "text": [
      "1\n"
     ]
    },
    {
     "data": {
      "text/plain": [
       "{'01': 1000}"
      ]
     },
     "execution_count": 9,
     "metadata": {},
     "output_type": "execute_result"
    }
   ],
   "source": [
    "CX([0,1])"
   ]
  },
  {
   "cell_type": "code",
   "execution_count": null,
   "metadata": {},
   "outputs": [],
   "source": []
  }
 ],
 "metadata": {
  "kernelspec": {
   "display_name": "Python 3",
   "language": "python",
   "name": "python3"
  },
  "language_info": {
   "codemirror_mode": {
    "name": "ipython",
    "version": 3
   },
   "file_extension": ".py",
   "mimetype": "text/x-python",
   "name": "python",
   "nbconvert_exporter": "python",
   "pygments_lexer": "ipython3",
   "version": "3.7.4"
  }
 },
 "nbformat": 4,
 "nbformat_minor": 4
}
