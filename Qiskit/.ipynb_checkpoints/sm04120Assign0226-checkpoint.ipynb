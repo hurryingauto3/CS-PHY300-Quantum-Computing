{
 "cells": [
  {
   "cell_type": "code",
   "execution_count": 6,
   "metadata": {},
   "outputs": [],
   "source": [
    "# these three import lines are essential for running a quantum circuit \n",
    "from qiskit import QuantumRegister, ClassicalRegister, QuantumCircuit\n",
    "from qiskit import Aer, execute\n",
    "from qiskit.providers.aer import QasmSimulator\n",
    "# also import a visualization tool from qiskit\n",
    "from qiskit.tools.visualization import plot_histogram\n",
    "# import numpy incase we need it\n",
    "import numpy as np\n",
    "from itertools import permutations, combinations, combinations_with_replacement"
   ]
  },
  {
   "cell_type": "code",
   "execution_count": 7,
   "metadata": {},
   "outputs": [
    {
     "name": "stdout",
     "output_type": "stream",
     "text": [
      "              ░ ┌─┐   \n",
      "q_0: |0>──────░─┤M├───\n",
      "        ┌───┐ ░ └╥┘┌─┐\n",
      "q_1: |0>┤ X ├─░──╫─┤M├\n",
      "        └───┘ ░  ║ └╥┘\n",
      " c_0: 0 ═════════╬══╩═\n",
      "                 ║    \n",
      " c_1: 0 ═════════╩════\n",
      "                      \n",
      "{'01': 1000}\n"
     ]
    }
   ],
   "source": [
    "N = 2\n",
    "\n",
    "# create a quantum register of N qubits, called 'q'. Note that the qubits in the drawing \n",
    "# are labelled a q_i\n",
    "qreg = QuantumRegister(N,'q')\n",
    "# create a classical register of N bits, called 'c'. Note that the bits in the drawing \n",
    "# are labelled a c_i\n",
    "creg = ClassicalRegister(N,'c')\n",
    "\n",
    "# create a quantum circuit with one quantum register and one classical register. \n",
    "circ = QuantumCircuit(qreg,creg)\n",
    "\n",
    "# only one gate in our circuit\n",
    "# you are add more from the list at \n",
    "# https://qiskit.org/documentation/stubs/qiskit.circuit.QuantumCircuit.html\n",
    "circ.x(1)\n",
    "\n",
    "# barriers don't do anything (for now), but they will help you separate\n",
    "# different parts of the circuit visually.\n",
    "circ.barrier()\n",
    "\n",
    "# finally measure the quantum register qreg and put the results in \n",
    "# the classical register creg\n",
    "#circ.measure(qreg,creg)\n",
    "\n",
    "# one thing you will notice is that the classical bitstrings are written reversed: \"c_1 c_0\"\n",
    "# rather than \"c_0 c_1\" I find it very annoying.\n",
    "# If you use the following measure command instead, it will write the bitstrings correctly.\n",
    "circ.measure(range(N),list(reversed(range(N))))\n",
    "\n",
    "# draw the circuit. Not necessary, and you won't want to do this for very \n",
    "# large circuits later on.\n",
    "print(circ.draw())\n",
    "\n",
    "# Now we are ready to simulate the quantum circuit\n",
    "# declare that you want to simulate on the simulator 'qasm_simulator'. There are others.\n",
    "simulator = Aer.get_backend('qasm_simulator')\n",
    "\n",
    "# simulate the circuit a number of times\n",
    "job = execute(circ,simulator,shots=1000)\n",
    "\n",
    "# get the results out\n",
    "result = job.result()\n",
    "\n",
    "# usually, we only care about the counts\n",
    "counts = result.get_counts()\n",
    "print(counts)\n",
    "\n",
    "# plot them as a histogram. Not very useful now, but can be later on.\n",
    "# plot_histogram(counts)"
   ]
  },
  {
   "cell_type": "code",
   "execution_count": 8,
   "metadata": {},
   "outputs": [],
   "source": [
    "# you can always the simulation of a circuit inside a python function\n",
    "def CX(input, runs):\n",
    "\n",
    "    N = 2\n",
    "    qreg = QuantumRegister(N,'q')\n",
    "    creg = ClassicalRegister(N,'c')\n",
    "    circ = QuantumCircuit(qreg,creg)\n",
    "    \n",
    "    # Encode the input into the state of the qubits\n",
    "    #print(input[1])\n",
    "    if input[0] == 1:\n",
    "        circ.x(0)\n",
    "    if input[1] == 1:\n",
    "        circ.x(1)\n",
    "    \n",
    "    # put the inputs into the CX gate\n",
    "    circ.cx(0, 1)\n",
    "\n",
    "    circ.measure(range(N),list(reversed(range(N))))\n",
    "   # print(circ.draw())\n",
    "\n",
    "    simulator = Aer.get_backend('qasm_simulator')\n",
    "    job = execute(circ,simulator,shots=runs)\n",
    "    result = job.result()\n",
    "    counts = result.get_counts()\n",
    "\n",
    "    return counts"
   ]
  },
  {
   "cell_type": "code",
   "execution_count": 9,
   "metadata": {},
   "outputs": [],
   "source": [
    "def perms(N):\n",
    "    bits = [0, 1]\n",
    "    perms = []\n",
    "    for i in range(2**N):\n",
    "        perms.append([int(i) for i in bin(i)[2:].zfill(N)])\n",
    "    return perms"
   ]
  },
  {
   "cell_type": "code",
   "execution_count": 10,
   "metadata": {},
   "outputs": [],
   "source": [
    "def truthTable(circ, inputs, shots):\n",
    "    outputs = {}\n",
    "    state = []\n",
    "    for i in inputs:\n",
    "        outputs[''.join([str(j) for j in i])] = (tuple([(i[0],i[1]/shots) for i in circ(i, shots).items()]))\n",
    "    return outputs"
   ]
  },
  {
   "cell_type": "code",
   "execution_count": 11,
   "metadata": {},
   "outputs": [
    {
     "data": {
      "text/plain": [
       "{'00': (('00', 1.0),),\n",
       " '01': (('01', 1.0),),\n",
       " '10': (('11', 1.0),),\n",
       " '11': (('10', 1.0),)}"
      ]
     },
     "execution_count": 11,
     "metadata": {},
     "output_type": "execute_result"
    }
   ],
   "source": [
    "truthTable(CX, perms(2), 1000)"
   ]
  },
  {
   "cell_type": "code",
   "execution_count": 12,
   "metadata": {},
   "outputs": [],
   "source": [
    "def CCX(state, runs):\n",
    "    N = len(state)\n",
    "    qreg = QuantumRegister(N,'q')\n",
    "    creg = ClassicalRegister(N,'c')\n",
    "    circ = QuantumCircuit(qreg,creg)\n",
    "    \n",
    "    for i in range(N):\n",
    "        if state[i] == 1:\n",
    "            circ.x(i)\n",
    "    \n",
    "    \n",
    "    circ.ccx(0 ,1, 2)\n",
    "    circ.measure(range(N),list(reversed(range(N))))\n",
    "    #print(circ.draw())\n",
    "\n",
    "    simulator = Aer.get_backend('qasm_simulator')\n",
    "    job = execute(circ,simulator,shots=runs)\n",
    "    result = job.result()\n",
    "    counts = result.get_counts()\n",
    "\n",
    "    return counts\n",
    "    "
   ]
  },
  {
   "cell_type": "code",
   "execution_count": 13,
   "metadata": {},
   "outputs": [
    {
     "data": {
      "text/plain": [
       "{'000': (('000', 1.0),),\n",
       " '001': (('001', 1.0),),\n",
       " '010': (('010', 1.0),),\n",
       " '011': (('011', 1.0),),\n",
       " '100': (('100', 1.0),),\n",
       " '101': (('101', 1.0),),\n",
       " '110': (('111', 1.0),),\n",
       " '111': (('110', 1.0),)}"
      ]
     },
     "execution_count": 13,
     "metadata": {},
     "output_type": "execute_result"
    }
   ],
   "source": [
    "truthTable(CCX, perms(3), 1000)"
   ]
  },
  {
   "cell_type": "code",
   "execution_count": 14,
   "metadata": {},
   "outputs": [],
   "source": [
    "def HZH(x, runs):\n",
    "    qreg = QuantumRegister(1,'q')\n",
    "    qreg = QuantumRegister(1,'q')\n",
    "    creg = ClassicalRegister(1,'c')\n",
    "    circ = QuantumCircuit(qreg,creg)\n",
    "    \n",
    "    if x == 1:\n",
    "        circ.x(0)\n",
    "        \n",
    "    circ.h(0)\n",
    "    circ.z(0)\n",
    "    circ.h(0)\n",
    "    #circ.barrier()\n",
    "    circ.measure(qreg, creg)\n",
    "    \n",
    "    #print(circ.draw())\n",
    "    \n",
    "    simulator = Aer.get_backend('qasm_simulator')\n",
    "    job = execute(circ,simulator,shots=1000)\n",
    "    result = job.result()\n",
    "    counts = result.get_counts()\n",
    "\n",
    "    return counts\n",
    "    \n"
   ]
  },
  {
   "cell_type": "code",
   "execution_count": 15,
   "metadata": {},
   "outputs": [],
   "source": [
    "def X(x, runs):\n",
    "    qreg = QuantumRegister(1,'q')\n",
    "    qreg = QuantumRegister(1,'q')\n",
    "    creg = ClassicalRegister(1,'c')\n",
    "    circ = QuantumCircuit(qreg,creg)\n",
    "    \n",
    "    if x == 1:\n",
    "        circ.x(0)\n",
    "        \n",
    "    circ.x(0)\n",
    "    #circ.barrier()\n",
    "    circ.measure(qreg, creg)\n",
    "    \n",
    "    #print(circ.draw())\n",
    "    \n",
    "    simulator = Aer.get_backend('qasm_simulator')\n",
    "    job = execute(circ,simulator,shots=runs)\n",
    "    result = job.result()\n",
    "    counts = result.get_counts()\n",
    "\n",
    "    return counts"
   ]
  },
  {
   "cell_type": "code",
   "execution_count": 16,
   "metadata": {},
   "outputs": [
    {
     "data": {
      "text/plain": [
       "{'0': (('1', 1.0),), '1': (('1', 1.0),)}"
      ]
     },
     "execution_count": 16,
     "metadata": {},
     "output_type": "execute_result"
    }
   ],
   "source": [
    "truthTable(HZH, perms(1), 1000)"
   ]
  },
  {
   "cell_type": "code",
   "execution_count": 17,
   "metadata": {},
   "outputs": [
    {
     "data": {
      "text/plain": [
       "{'0': (('1', 1.0),), '1': (('1', 1.0),)}"
      ]
     },
     "execution_count": 17,
     "metadata": {},
     "output_type": "execute_result"
    }
   ],
   "source": [
    "truthTable(X, perms(1), 1000)"
   ]
  },
  {
   "cell_type": "code",
   "execution_count": 18,
   "metadata": {},
   "outputs": [
    {
     "data": {
      "text/plain": [
       "True"
      ]
     },
     "execution_count": 18,
     "metadata": {},
     "output_type": "execute_result"
    }
   ],
   "source": [
    "truthTable(X, perms(1), 1000) == truthTable(HZH, perms(1), 1000)"
   ]
  },
  {
   "cell_type": "code",
   "execution_count": 19,
   "metadata": {},
   "outputs": [],
   "source": [
    "def Y(x, runs):\n",
    "    qreg = QuantumRegister(1,'q')\n",
    "    qreg = QuantumRegister(1,'q')\n",
    "    creg = ClassicalRegister(1,'c')\n",
    "    circ = QuantumCircuit(qreg,creg)\n",
    "    \n",
    "    if x == 1:\n",
    "        circ.x(0)\n",
    "        \n",
    "    circ.y(0)\n",
    "    #circ.barrier()\n",
    "    circ.measure(qreg, creg)\n",
    "    \n",
    "    #print(circ.draw())\n",
    "    \n",
    "    simulator = Aer.get_backend('qasm_simulator')\n",
    "    job = execute(circ,simulator,shots=runs)\n",
    "    result = job.result()\n",
    "    counts = result.get_counts()\n",
    "\n",
    "    return counts"
   ]
  },
  {
   "cell_type": "code",
   "execution_count": 20,
   "metadata": {},
   "outputs": [],
   "source": [
    "def Z(x, runs):\n",
    "    qreg = QuantumRegister(1,'q')\n",
    "    qreg = QuantumRegister(1,'q')\n",
    "    creg = ClassicalRegister(1,'c')\n",
    "    circ = QuantumCircuit(qreg,creg)\n",
    "    \n",
    "    if x == 1:\n",
    "        circ.x(0)\n",
    "        \n",
    "    circ.z(0)\n",
    "    #circ.barrier()\n",
    "    circ.measure(qreg, creg)\n",
    "    \n",
    "    #print(circ.draw())\n",
    "    \n",
    "    simulator = Aer.get_backend('qasm_simulator')\n",
    "    job = execute(circ,simulator,shots=runs)\n",
    "    result = job.result()\n",
    "    counts = result.get_counts()\n",
    "\n",
    "    return counts"
   ]
  },
  {
   "cell_type": "code",
   "execution_count": 21,
   "metadata": {},
   "outputs": [],
   "source": [
    "def H(x, runs):\n",
    "    qreg = QuantumRegister(1,'q')\n",
    "    qreg = QuantumRegister(1,'q')\n",
    "    creg = ClassicalRegister(1,'c')\n",
    "    circ = QuantumCircuit(qreg,creg)\n",
    "    \n",
    "    if x == 1:\n",
    "        circ.x(0)\n",
    "        \n",
    "    circ.h(0)\n",
    "    #circ.barrier()\n",
    "    circ.measure(qreg, creg)\n",
    "    \n",
    "    #print(circ.draw())\n",
    "    \n",
    "    simulator = Aer.get_backend('qasm_simulator')\n",
    "    job = execute(circ,simulator,shots=runs)\n",
    "    result = job.result()\n",
    "    counts = result.get_counts()\n",
    "\n",
    "    return counts"
   ]
  },
  {
   "cell_type": "code",
   "execution_count": 22,
   "metadata": {},
   "outputs": [
    {
     "name": "stdout",
     "output_type": "stream",
     "text": [
      "{'1': 1000}\n",
      "{'0': 1000}\n"
     ]
    }
   ],
   "source": [
    "print(X(0, 1000))\n",
    "print(X(1, 1000))"
   ]
  },
  {
   "cell_type": "code",
   "execution_count": 23,
   "metadata": {},
   "outputs": [
    {
     "name": "stdout",
     "output_type": "stream",
     "text": [
      "{'1': 1000}\n",
      "{'0': 1000}\n"
     ]
    }
   ],
   "source": [
    "print(Y(0, 1000))\n",
    "print(Y(1, 1000))"
   ]
  },
  {
   "cell_type": "code",
   "execution_count": 24,
   "metadata": {},
   "outputs": [
    {
     "name": "stdout",
     "output_type": "stream",
     "text": [
      "{'0': 1000}\n",
      "{'1': 1000}\n"
     ]
    }
   ],
   "source": [
    "print(Z(0, 1000))\n",
    "print(Z(1, 1000))"
   ]
  },
  {
   "cell_type": "code",
   "execution_count": 59,
   "metadata": {},
   "outputs": [],
   "source": [
    "def f1(circ):\n",
    "    circ.cx(0, 1)"
   ]
  },
  {
   "cell_type": "code",
   "execution_count": 105,
   "metadata": {},
   "outputs": [],
   "source": [
    "def f2(circ):\n",
    "    circ.x(1)\n",
    "    circ.cx(0,1)"
   ]
  },
  {
   "cell_type": "code",
   "execution_count": 109,
   "metadata": {},
   "outputs": [],
   "source": [
    "def f3(circ):\n",
    "    circ.x(1)"
   ]
  },
  {
   "cell_type": "code",
   "execution_count": 134,
   "metadata": {},
   "outputs": [],
   "source": [
    "def one_bit_deutschJosza(control):\n",
    "    qreg = QuantumRegister(2,'q')\n",
    "    creg = ClassicalRegister(2,'c')\n",
    "    circ = QuantumCircuit(qreg,creg)\n",
    "    circ.x(1)\n",
    "    circ.h(0)\n",
    "    circ.h(1)\n",
    "    \n",
    "    out = ['f is constant', 'f is balanced']\n",
    "    \n",
    "    Uf = [f1, f2, f3]\n",
    "    if control > 0:\n",
    "        Uf[control - 1](circ)\n",
    "    circ.h(0)\n",
    "    \n",
    "    circ.measure(range(N),list(reversed(range(N))))\n",
    "    print(circ.draw())\n",
    "    \n",
    "    simulator = Aer.get_backend('qasm_simulator')\n",
    "    job = execute(circ,simulator,shots=1\n",
    "                 )\n",
    "    result = job.result()\n",
    "    counts = result.get_counts()\n",
    "\n",
    "    return out[int(list(counts.keys())[0][0])]"
   ]
  },
  {
   "cell_type": "code",
   "execution_count": 139,
   "metadata": {},
   "outputs": [
    {
     "name": "stdout",
     "output_type": "stream",
     "text": [
      "        ┌───┐               ┌───┐┌─┐\n",
      "q_0: |0>┤ H ├────────────■──┤ H ├┤M├\n",
      "        ├───┤┌───┐┌───┐┌─┴─┐└┬─┬┘└╥┘\n",
      "q_1: |0>┤ X ├┤ H ├┤ X ├┤ X ├─┤M├──╫─\n",
      "        └───┘└───┘└───┘└───┘ └╥┘  ║ \n",
      " c_0: 0 ══════════════════════╩═══╬═\n",
      "                                  ║ \n",
      " c_1: 0 ══════════════════════════╩═\n",
      "                                    \n"
     ]
    },
    {
     "data": {
      "text/plain": [
       "'f is balanced'"
      ]
     },
     "execution_count": 139,
     "metadata": {},
     "output_type": "execute_result"
    }
   ],
   "source": [
    "one_bit_deutschJosza(2)"
   ]
  },
  {
   "cell_type": "code",
   "execution_count": null,
   "metadata": {},
   "outputs": [],
   "source": []
  },
  {
   "cell_type": "code",
   "execution_count": null,
   "metadata": {},
   "outputs": [],
   "source": []
  }
 ],
 "metadata": {
  "kernelspec": {
   "display_name": "Python 3",
   "language": "python",
   "name": "python3"
  },
  "language_info": {
   "codemirror_mode": {
    "name": "ipython",
    "version": 3
   },
   "file_extension": ".py",
   "mimetype": "text/x-python",
   "name": "python",
   "nbconvert_exporter": "python",
   "pygments_lexer": "ipython3",
   "version": "3.7.4"
  }
 },
 "nbformat": 4,
 "nbformat_minor": 4
}
